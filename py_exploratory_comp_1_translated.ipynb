{
 "cells": [
  {
   "cell_type": "markdown",
   "metadata": {},
   "source": [
    "\n",
    "# Metode Komputasi Eksplorasi Menggunakan Python\n",
    "\n",
     "*Oleh Mark Bakker, TU Delft.*\n",
    "\n",
    "*Versi Indonesia disesuaikan oleh Tim ITB dan Tim ITS.*"
   ]
  },
  {
   "cell_type": "markdown",
   "metadata": {},
   "source": [
    "## Notebook 1: Dasar-dasar dan *Plotting*\n",
    "### Langkah-langkah awal menggunakan Python\n",
    "Portabel, efektif, dan sangat mudah digunakan, Python adalah sebuah bahasa pemrograman yang popular dan dapat diunduh secara gratis oleh masyarakat umum. Cakupan aplikasi Python sebagai bahasa pemrograman sangat luas, baik dalam kegiatan penulisan *script* maupun program-program terpisah. Salah satu contoh sederhana adalah penggunaan Python sebagai kalkulator. Letakkan kursor anda di dalam sel yang memuat kode di bawah ini dan tekan tombol [shift][enter] untuk menampilkan hasil. Sesuai dengan kode yang dituliskan, angka 12 akan muncul sebagai hasil (-:"
   ]
  },
  {
   "cell_type": "code",
   "execution_count": 6,
   "metadata": {
    "collapsed": false
   },
   "outputs": [
    {
     "name": "stdout",
     "output_type": "stream",
     "text": [
      "6\n"
     ]
    }
   ],
   "source": [
    "6 * 2\n",
    "print(a)"
   ]
  },
  {
   "cell_type": "markdown",
   "metadata": {},
   "source": [
    "Perhatikan bahwa penambahan jarak di antara angka dan operator perkalian hanya dilakukan untuk membuat kode lebih mudah dibaca. Pada dasarnya, penulisan `6 * 2` akan berfungsi sama dengan `6*2`.\n",
    "Dalam melakukan pemrograman, lebih baik untuk menyimpan nilai sebuah entitas dalam suatu variabel seperti yang dapat dilihat dalam contoh kode di bawah ini."
   ]
  },
  {
   "cell_type": "code",
   "execution_count": 3,
   "metadata": {
    "collapsed": false
   },
   "outputs": [
    {
     "data": {
      "text/plain": [
       "12"
      ]
     },
     "execution_count": 3,
     "metadata": {},
     "output_type": "execute_result"
    }
   ],
   "source": [
    "a = 6\n",
    "b = 2\n",
    "a * b "
   ]
  },
  {
   "cell_type": "markdown",
   "metadata": {},
   "source": [
    "Baik `a` maupun `b` adalah variabel. Setiap variabel yang telah diciptakan didefinisikan oleh tipenya masing-masing. Dalam contoh ini, tipe dari kedua variabel `a` maupun `b` adalah *integer* (bilangan bulat).\n",
    "Pernyataan `print` dapat digunakan untuk menampilkan nilai dari sebuah variabel yang sudah diciptakan pada layar komputer. Contoh aplikasi dari pernyataan `print` dapat dilihat pada sel kode di bawah ini.\n",
    "Apabila nilai dari sebuah entitas tidak disimpan dalam suatu variabel, maka pernyataan terakhir yang tertulis pada *script* akan secara otomatis ditampilkan di layar, seperti yang dapat dilihat pada contoh kode di atas."
   ]
  },
  {
   "cell_type": "code",
   "execution_count": 5,
   "metadata": {
    "collapsed": false
   },
   "outputs": [
    {
     "name": "stdout",
     "output_type": "stream",
     "text": [
      "6\n",
      "2\n",
      "12\n",
      "3.0\n"
     ]
    }
   ],
   "source": [
    "print(a)\n",
    "print(b)\n",
    "print(a*b)\n",
    "print(a/b)"
   ]
  },
  {
   "cell_type": "markdown",
   "metadata": {},
   "source": [
    "Penambahan teks dalam penggunaan pernyataan `print` dapat dilakukan dengan meletakkan teks di antara tanda kutip dan menambahkan tanda koma di antara teks dan nilai variabel yang ingin ditampilkan. Tanda kutip yang digunakan dapat bervariasi antara tanda kutip tunggal maupun ganda asalkan penggunaannya dilakukan secara konsisten. "
   ]
  },
  {
   "cell_type": "code",
   "execution_count": null,
   "metadata": {
    "collapsed": false
   },
   "outputs": [],
   "source": [
    "print('nilai dari a adalah',a)"
   ]
  },
  {
   "cell_type": "markdown",
   "metadata": {},
   "source": [
    "Operasi pemangkatan atau eksponen dapat dieksekusi dengan menggunakan operator perkalian (`**`) secara berturut-turut. Penggunaan operator carret (`^`) sebagai penanda operasi pemangkatan di banyak aplikasi lainnya tidak berfungsi di dalam Python."
   ]
  },
  {
   "cell_type": "code",
   "execution_count": null,
   "metadata": {
    "collapsed": false
   },
   "outputs": [],
   "source": [
    "a**b"
   ]
  },
  {
   "cell_type": "markdown",
   "metadata": {},
   "source": [
    "### <a name=\"ex1\"></a> Latihan 1, Kode Python pertama\n",
    "Hitung hasil dari polinomial berikut: $ y=ax^2+bx+c $  di $ x=-2 $, $ x=0 $, dan $ x=2 $ menggunakan $ a=1 $, $ b=1 $, $ c=-6 $. Apabila persamaan yang ditampilkan tampak terlalu kecil (pada umumnya terjadi pada Windows), klik kanan pada persamaan, pilih *Math Settings*, pilih *Scale All Math*, dan pilih 200% untuk perbesaran yang diinginkan. Perubahan ukuran ini akan berlaku pada seluruh persamaan di dalam Notebook ini."
   ]
  },
  {
   "cell_type": "code",
   "execution_count": null,
   "metadata": {
    "collapsed": false
   },
   "outputs": [],
   "source": []
  },
  {
   "cell_type": "markdown",
   "metadata": {},
   "source": [
    "<a href=\"#ex1answer\">Kunci Jawaban untuk Latihan 1</a>"
   ]
  },
  {
   "cell_type": "markdown",
   "metadata": {},
   "source": [
    "Jika anda menggunakan Python dengan versi yang lebih lama daripada Versi 3.0, perhatian lebih harus diberikan pada saat akan mengeksekusi operasi pembagian, di mana operasi pembagian antara dua variabel dengan tipe *integer* akan  menghasilkan variabel dengan tipe yang sama. Dengan kata lain, `1/3` akan menghasilkan `0`. Apabila variabel yang ingin dihasilkan adalah angka pecahan maka variabel-variabel inisial harus didefinisikan sebagai tipe *float*, bukan tipe *integer*.\n",
    "Jika anda menggunakan Python Versi 3.0 ke atas maka peraturan mengenai penulisan variabel ini tidak perlu diperhatikan."
   ]
  },
  {
   "cell_type": "code",
   "execution_count": null,
   "metadata": {
    "collapsed": false
   },
   "outputs": [],
   "source": [
    "print('1/3 memberikan', 1 / 3)\n",
    "print('1.0 / 3 memberikan', 1.0 / 3)\n",
    "print('1 / 3.0 memberikan', 1 / 3.0)\n",
    "print('1.0 / 3.0 memberikan', 1.0 / 3.0)"
   ]
  },
  {
   "cell_type": "markdown",
   "metadata": {},
   "source": [
    "Setelah anda menciptakan variabel dalam satu sesi IPython tertentu, nilai dari variabel ini akan tersimpan dalam memori IPython sehingga anda dapat memanggil kembali variabel tersebut pada sel-sel kode lainnya. Contohnya adalah penggunaan dan pemanggilan berulang kali variabel `a`, yang telah didefinisikan di bagian awal dari Notebook ini. Nilai yang disimpan dalam variabel `a` adalah `6` dan berlaku sepanjang Notebook ini kecuali anda telah mengubah atau merevisi nilai dari variabel `a` dalam Latihan 1."
   ]
  },
  {
   "cell_type": "markdown",
   "metadata": {},
   "source": [
    "Anda sebagai pengguna dapat menentukan urutan dari sel-sel kode yang akan dieksekusi. Contohnya, `In [6]` memiliki arti bahwa sel kode tersebut merupakan sel kode ke 6 yang dieksekusi. Apabila anda melakukan perubahan dalam sel kode yang sama dan mengeksekusinya kembali maka sel kode tersebut akan mendapat nomor urutan yang baru, `In [7]`. Apabila anda kembali mendefinisikan nilai dari variabel `a` di sel kode ini, maka nilai dari variabel `a` yang baru akan menggantikan nilai dari variabel `a` yang lama."
   ]
  },
  {
   "cell_type": "markdown",
   "metadata": {},
   "source": [
    "Pemberian nama sebuah variabel bebas dilakukan sesuai dengan keinginan anda. Memberikan nama yang mendeskripsikan sifat atau nilai variabel yang diciptakan akan memudahkan pengguna yang lain untuk memahami kode yang anda buat. Nama sebuah variabel tidak boleh mengandung spasi maupun dimulai dengan angka serta bersifat sensitif terhadap jenis dari huruf yang digunakan (variabel a tidak sama dengan variabel A). Selain itu, pemberian nama variabel juga harus memperhatikan adanya beberapa kata yang sudah digunakan dalam terminologi Python sehingga tidak dapat lagi digunakan sebagai nama untuk variabel. Contohnya, kata print tidak dapat digunakan sebagai nama sebuah variabel karena Python telah menggunakan kata tersebut sebagai nama pernyataan untuk menampilkan sesuatu pada layar komputer. Berbagai macam kata yang telah digunakan Python sebagai fungsi, pernyataan, atau lainnya akan kita temui di bagian-bagian Notebook selanjutnya. Kata-kata tersebut ditandai dengan warna hijau apabila anda menuliskannya di dalam sel-sel kode dalam rangkaian Notebook ini. "
   ]
  },
  {
   "cell_type": "markdown",
   "metadata": {},
   "source": [
    "### *Plotting* dasar dan array yang pertama\n",
    "Kemampuan untuk melakukan *plotting* tidak termasuk dalam fungsi bawaan dalam Python. Untungnya, terdapat paket atau modul yang dapat diunduh untuk menciptakan grafik-grafik interaktif dalam *environment* Python. Paket atau modul adalah terminologi yang digunakan untuk mendefinisikan kumpulan fungsi-fungsi yang bersifat spesifik untuk melakukan satu jenis pekerjaan dalam *environment* Python. Paket yang berfungsi untuk menciptakan grafik adalah `matplotlib`. Untuk dapat mengakses fungsi-fungsi yang terdapat di dalam `matplotlib`, kita harus mengimpor paket ini ke dalam *environment* Python di mana kita bekerja. Dalam Notebook ini, kita akan belajar beberapa cara untuk mengimpor paket ke dalam *environment* kerja kita. Untuk saat ini, kita akan mengimpor fungsi-fungsi untuk melakukan *plotting* dari `matplotlib` dan memberikan nama `plt` terhadap kumpulan fungsi tersebut. Kita juga akan menambahkan perintah ke dua yang berfungsi untuk meminta IPhyton untuk menampilkan semua grafik di dalam Notebook ini pada *window* yang sama."
   ]
  },
  {
   "cell_type": "code",
   "execution_count": null,
   "metadata": {
    "collapsed": false
   },
   "outputs": [],
   "source": [
    "import matplotlib.pyplot as plt\n",
    "%matplotlib inline"
   ]
  },
  {
   "cell_type": "markdown",
   "metadata": {},
   "source": [
    "Sebuah paket hanya perlu diimpor sekali dalam satu sesi IPython tertentu. Dalam contoh di atas, setelah matplotlib diimpor, fungsi plotting apapun dapat dipanggil di mana pun dengan mengetik `plt.function`. Contoh dapat dilihat pada sel di bawah ini."
   ]
  },
  {
   "cell_type": "code",
   "execution_count": null,
   "metadata": {
    "collapsed": false
   },
   "outputs": [],
   "source": [
    "plt.plot([1,2,3,2])"
   ]
  },
  {
   "cell_type": "markdown",
   "metadata": {},
   "source": [
    "Mari kita coba untuk membuat plot  $ y $  vs  $ x $  untuk  $ x = [-4, 4] $  menggunakan fungsi polinomial yang telah didefinisikan pada sel di atas. Untuk melakukan hal tersebut, kita perlu untuk mengevaluasi nilai variabel  $ y $  pada banyak lokasi  $ x $ . Kumpulan variabel dengan tipe yang sama dan berada dalam sebuah urutan tertentu disebut dengan istilah array dalam *environment* Python (e.g. array yang terdiri dari variabel-variabel dengan tipe *integer* atau *float*). Operasi-operasi matematis yang melibatkan array dapat diakses melalui paket/modul yang dikenal dengan nama `numpy`. Mari kita coba mengimpor modul `numpy` ke dalam Notebook ini dan beri nama sebagai `np`, sehingga ke depannya fungsi-fungsi yang terdapat dalam paket `numpy` dapat kita akses dengan mengetik `np.function`."
   ]
  },
  {
   "cell_type": "code",
   "execution_count": null,
   "metadata": {
    "collapsed": false
   },
   "outputs": [],
   "source": [
    "import numpy as np"
   ]
  },
  {
   "cell_type": "markdown",
   "metadata": {},
   "source": [
    "Untuk membuat sebuah array (`x`) yang terdiri dari, contohnya, 5 angka di antara `-4` dan `4` dengan jarak yang seragam, kita dapat menggunakan perintah `linspace`."
   ]
  },
  {
   "cell_type": "code",
   "execution_count": null,
   "metadata": {
    "collapsed": false
   },
   "outputs": [],
   "source": [
    "x = np.linspace(-4,4,5)\n",
    "print(x)"
   ]
  },
  {
   "cell_type": "markdown",
   "metadata": {},
   "source": [
    "Pada sel kode di atas, `x` adalah sebuah array dengan 5 angka dengan tipe float (`-4.` adalah variabel dengan tipe *float*, `-4` merupakan contoh variabel bertipe *integer*).\n",
    "\n",
    "Ketika anda mengetik `np.linspace` disertai dengan tanda buka kurung seperti di bawah ini: \n",
    "\n",
    "`np.linspace(` \n",
    "\n",
    "dan disusul dengan [shift-tab], keterangan mengenai argumen yang harus diinput untuk menyertai fungsi ini akan muncul dalam boks kecil di samping tanda buka kurung. Apabila anda klik tanda +, maka anda dapat melihat seluruh dokumentasi yang menyertai fungsi `linspace` ini. Untuk menyingkirkan bantuan ini, klik tanda x di ujung boks.\n",
    "\n",
    "Mari kita mencoba untuk melakukan plotting variabel  $ y $  di 100 titik variabel  $ x $  di dalam [-4, 4]"
   ]
  },
  {
   "cell_type": "code",
   "execution_count": null,
   "metadata": {
    "collapsed": false
   },
   "outputs": [],
   "source": [
    "a = 1\n",
    "b = 1\n",
    "c = -6\n",
    "x = np.linspace(-4,4,100)\n",
    "y = a*x**2 + b*x + c  # Compute y for all x values\n",
    "plt.plot(x,y)"
   ]
  },
  {
   "cell_type": "markdown",
   "metadata": {},
   "source": [
    "NPerhatikan bahwa penghitungan 100 nilai variabel y dilakukan oleh baris `y = a*x**2 + b*x + c`. Kalimat yang terletak setelah tanda `#` merupakan komentar terhadap kode yang ditulis. Setiap kalimat yang terletak setelah tanda `#` akan diabaikan oleh Python. Dalam Python, operasi matematis yang melibatkan array diperlakukan sama seperti operasi matematis dengan variabel-variabel tunggal. Perhitungan matematis dilakukan terhadap tiap elemen di dalam array, di mana kode dapat berfungsi lebih cepat dibandingkan apabila perhitungan dilakukan terhadap masing-masing variabel secara terpisah).\n",
    "\n",
    "Mungkin ada bertanya-tanya apakah arti dari baris `[<matplotlib.lines.Line2D at 0x6999a70>]`? (Perhatikan bahwa angka yang tercantum di tengah-tengah teks mungkin tidak sama dengan yang muncul di komputer anda).\n",
    "Baris ini merupakan *handle* yang menyertai kalimat terakhir yang ditulis di dalam rangkaian kode sebelumnya (dalam contoh ini, `plt.plot(x,y)`). Anda dapat memberi perintah kepada Notebook untuk tidak menampilkan baris ini dengan menyantumkan tanda titik koma setelah baris terakhir di dalam kode (ketik: `plt.plot(x,y);`). Kita akan belajar mengenai keuntungan untuk menyimpan nilai dari *handle* ini dalam sebuah variabel di bagian selanjutnya."
   ]
  },
  {
   "cell_type": "markdown",
   "metadata": {},
   "source": [
    "Fungsi `plot` dapat dieksekusi disertai dengan banyak input argumen. Keterangan lebih lengkap mengenai berbagai jenis argumen yang dapat digunakan untuk menyertai fungsi ini dapat dilihat pada boks help yang dapat diakses dengan cara mengetik `plt.plot(` disusul dengan menekan tombol shift-tab. Cara lain adalah dengan mengetik `help(plt.plot)`, yang akan memberikan anda *window* baru berisi bantuan mengenai fungsi plot."
   ]
  },
  {
   "cell_type": "markdown",
   "metadata": {},
   "source": [
    "Ringkasnya, `plot` dapat digunakan hanya dengan satu input argumen seperti dalam perintah `plot(y)` yang akan memberikan hasil berupa plot dari nilai variabel `y` di sepanjang sumbu vertikal dan menampilkan nilai dari sumbu horizontal, dimulai dari 0. Perintah `plot(x,y)` akan menghasilkan plot variabel `y` vs `x`. Penambahan `formatstring` ke dalam perintah menjadi `plot(x,y,formatstring)` akan menghasilkan plot dari variabel `y` vs `x` dengan warna dan tipe kurva yang ditentukan dengan pengaturan dari `formatstring`, yang dapat mencakup beragam cara. Pengaturan untuk warna dapat dilakukan dengan menambahkan inisial dari warna yang diinginkan dalam bahasa inggris, contohnya, `'b'` untuk warna biru (blue), `'r'` untuk warna merah (red), `'g'` untuk hijau (green), dan sebagainya. Jenis kurva dapat diatur dengan mengetik, contohnya, `'-'` untuk garis, `'--'` untuk garis putus-putus, `':'` untuk titik-titik. Penambahan *marker* atau penanda juga dapat dilakukan dengan mengetik `'o'` untuk lingkaran, `'s'` untuk kotak. Untuk mengatur warna dan jenis kurva sekaligus, kombinasi pengaturan dapat dilakukan dengan mengetik, contohnya, `'r--'` untuk menampilkan garis putus-putus berwarna merah dan `'go'` untuk menampilkan penanda berbentuk lingkaran berwarna hijau. "
   ]
  },
  {
   "cell_type": "markdown",
   "metadata": {},
   "source": [
    "Apabila pengaturan di atas dirasa belum mencukupi, `plot` mampu memfasilitasi banyak variasi dari argumen yang menggunakan kata kunci (*keyword arguments*). Argumen menggunakan kata kunci adalah argumen pilihan yang dapat ditambahkan ke dalam pemanggilan sebuah fungsi. *Syntax* yang dibutuhkan adalah `function(kata kunci1=nilai1, kata kunci2=nilai2)`, dst. Contohnya adalah perintah yang dibutuhkan untuk memproduksi plot sebuah fungsi dengan ketebalan kurva = 6 (pengaturan dasar untuk ketebalan kurva adalah 1; perhatikan juga penambahan tanda titik koma di akhir kode)."
   ]
  },
  {
   "cell_type": "code",
   "execution_count": null,
   "metadata": {
    "collapsed": false
   },
   "outputs": [],
   "source": [
    "plt.plot([1,2,3],[2,4,3],linewidth=6);"
   ]
  },
  {
   "cell_type": "markdown",
   "metadata": {},
   "source": [
    "Kata kunci harus dicantumkan setelah argumen standar yang diperlukan. Pengetikan seperti, `plt.plot(linewidth=6, [1, 2 , 3], [2, 4, 3])` akan menghasilkan error. Pada kode di bawah ini, hapus tanda `#` dan tekan tombol aktifasi. Anda akan mendapatkan pesan error. Koreksi kode berikut hingga dapat berfungsi dengan benar dan jalankan lagi."
   ]
  },
  {
   "cell_type": "code",
   "execution_count": null,
   "metadata": {
    "collapsed": false
   },
   "outputs": [],
   "source": [
    "#plt.plot(color='Orange',lw=3,[1,2,3],[2,4,3])"
   ]
  },
  {
   "cell_type": "markdown",
   "metadata": {},
   "source": [
    "Pemberian nama terhadap masing-masing sumbu pada grafik dapat dilakukan dengan menambahkan fungsi berupa `xlabel` dan `ylabel` e.g. `plt.xlabel('Ini merupakan sumbu-x)`. Perhatikan bahwa argumen dari kedua fungsi ini adalah sebuah variabel dengan tipe string. Judul dari grafik dapat ditambahkan ke dalam hasil *plotting* dengan  perintah `title`.Beberapa kurva dapat diplot secara bersamaan di dalam satu gambar dengan mencantumkan beberapa perintah *plotting* secara sekaligus. Kurva-kurva tersebut akan secara otomatis ditampilkan dalam satu gambar yang sama."
   ]
  },
  {
   "cell_type": "markdown",
   "metadata": {},
   "source": [
    "### <a name=\"ex2\"></a> Latihan 2, Grafik pertama\n",
    "Plot  $ y=(x+2)(x-1)(x-2) $  dengan  $ x $  dari $ -3 $  hingga  $ 3 $  menggunakan garis putus-putus berwarna merah. Pada gambar yang sama, plot variabel  $ y $  yang bernilai 0 menggunakan *marker* berupa lingkaran berwarna biru. Atur ukuran untuk *marker* menjadi 10 (anda mungkin membutuhkan bantuan tambahan yang disediakan dalam `help(plot)` untuk mencari tahu bagaimana mengubah pengaturan grafik). Beri label terhadap sumbu-sumbu grafik sebagai 'sumbu-x' dan 'sumbu-y'. Setelah itu, tambahkan judul, 'Grafik Python pertama Milik (Nama Anda)' ke dalam grafik anda."
   ]
  },
  {
   "cell_type": "code",
   "execution_count": null,
   "metadata": {
    "collapsed": false
   },
   "outputs": [],
   "source": []
  },
  {
   "cell_type": "markdown",
   "metadata": {},
   "source": [
    "<a href=\"#ex2answer\">Kunci Jawaban untuk Latihan 2</a>"
   ]
  },
  {
   "cell_type": "markdown",
   "metadata": {},
   "source": [
    "### Memuat dokumen-dokumen yang berisi data\n",
    "Data-data numerik dapat dimuat ke dalam kode yang sedang kita kerjakan dengan menggunakan fungsi `loadtxt` yang terdapat di dalam paket `numpy`; i.e. `np.loadtxt`. Anda harus memastikan bahwa dokumen yang akan anda muat berada di dalam direktori yang sama seperti Notebook  ini. Apabila dokumen berada di direktori yang berbeda maka anda perlu mengetik *path* lengkap dari direktori di mana dokumen yang dimaksud berada. Nama dokumen (atau nama dokumen beserta *path directory* harus diletakkan di antara tanda kutip."
   ]
  },
  {
   "cell_type": "markdown",
   "metadata": {},
   "source": [
    "### Array dengan sejumlah angka tertentu"
   ]
  },
  {
   "cell_type": "markdown",
   "metadata": {},
   "source": [
    "Sebuah array dengan sejumlah angka tertentu dapat dibuat dengan memanggil fungsi `arange` i.e. `np.arange`. Deskripsi lengkap mengenai fungsi ini akan diberikan dalam Notebook yang selanjutnya, untuk saat ini kegunaan dasar dari fungsi `np.arange` dirasa cukup."
   ]
  },
  {
   "cell_type": "code",
   "execution_count": null,
   "metadata": {
    "collapsed": false
   },
   "outputs": [],
   "source": [
    "print(np.arange(5)) # memberikan 5 variabel integer yang dimulai dari 0\n",
    "print(np.arange(1,6))  # memberikan variabel integer yang dimulai dari 1 sampai sebelum 6"
   ]
  },
  {
   "cell_type": "markdown",
   "metadata": {},
   "source": [
    "### <a name=\"ex3\"></a> Latihan 3, Memuat data dan menambahkan legenda\n",
    "Latihan ini dilengkapi dengan dokumen berisi data hujan bulanan di Jakarta, Bandung, dan Surabaya. Data hujan Jakarta disimpan dalam file bernama `hujan_jakarta.dat`, penamaan dokumen untuk data kota-kota lainnya mengikuti pengaturan yang sama. Plot data curah hujan bulanan untuk masing-masing kota terhadap jumlah bulan yang tercantum (dimulai dari 1 untuk Januari) dalam satu gambar yang sama. Tambahkan legenda dengan menggunakan fungsi `plt.legend(['line1','line2'])`, etc., dengan argumen yang menjelaskan karakteristik masing-masing kurva. Untuk mencari tahu lebih lanjut mengenai fungsi `legend` anda dapat melihat dokumentasi fungsi dengan mengetik `plt.legend?`. Atur peletakan legenda di tempat yang sesuai e.g. sebelah kiri atas, atau biarkan Python secara otomatis menentukan peletakan yang tepat. "
   ]
  },
  {
   "cell_type": "code",
   "execution_count": null,
   "metadata": {
    "collapsed": false
   },
   "outputs": [],
   "source": []
  },
  {
   "cell_type": "markdown",
   "metadata": {},
   "source": [
    "<a href=\"#ex3answer\">Kunci Jawaban untuk Latihan 3</a>"
   ]
  },
  {
   "cell_type": "markdown",
   "metadata": {},
   "source": [
    "### <a name=\"ex4\"></a> Latihan 4, Subplot dan penanda sumbu grafik\n",
    "\n",
    "Muat data mengenai hujan bulanan untuk Bandung dan Surabaya. Buat 1 plot berisi 2 gambar/grafik, satu di atas yang lainnya, menggunakan perintah subplot (keterangan mengenai perintah ini dapat diakses dengan mengetik `plt.subplot?`). Pada gambar/grafik yang terletak di atas, plot data mengenai hujan bulanan Bandung dan Surabaya. Ganti label untuk penanda sumbu horizontal dari 0, 1, 2, etc. menjadi 'jan', 'feb', 'mar', etc. menggunakan perintah `plt.xticks()`. Keterangan lebih lanjut mengenai perintah ini dapat diakses dengan mengetik `plt.xticks?`. Pada grafik yang terletak di bagian bawah, plot perbedaan hujan Bulanan Bandung dari Surabaya. Tambahkan legenda, label untuk masing-masing sumbu pada grafik, dan keterangan-keterangan lainnya yang telah anda pelajari ke dalam gambar ini."
   ]
  },
  {
   "cell_type": "code",
   "execution_count": null,
   "metadata": {
    "collapsed": false
   },
   "outputs": [],
   "source": []
  },
  {
   "cell_type": "markdown",
   "metadata": {},
   "source": [
    "<a href=\"#ex4answer\">Kunci Jawaban untuk Latihan 4</a>"
   ]
  },
  {
   "cell_type": "markdown",
   "metadata": {},
   "source": [
    "### Galeri berisi berbagai pilihan grafik\n",
    "\n",
    "Paket untuk mengeksekusi *plotting* `matplotlib` dapat memproduksi beragam jenis grafik dengan tingkat kesulitan yang bervariasi. Silakan cek <A href=\"http://matplotlib.org/gallery.html\"  target=_blank>matplotlib galeri</A> untuk mendapatkan gambaran mengenai pilihan-pilihan yang tersedia. Latihan-latihan berikutnya di dalam Notebook ini akan menggunakan beberapa dari pilihan tersebut. "
   ]
  },
  {
   "cell_type": "markdown",
   "metadata": {},
   "source": [
    "### <a name=\"ex5\"></a> Latihan 5, *Pie Chart*\n",
    "Pada Olimpiade tahun 2012 di London, 10 negara dengan perolehan medali emas tertinggi adalah `['USA', 'CHN', 'GBR', 'RUS', 'KOR', 'GER', 'FRA', 'ITA', 'HUN', 'AUS', 'Lainnya']`. Jumlah medali emas untuk masing-masing negara tersebut, sesuai dengan urutan negara di atas, adalah `[46, 38, 29, 24, 13, 11, 11, 8, 8, 7, 107]`. Buatlah *pie chart* yang menggambarkan perolehan medali emas kesepuluh negara tersebut beserta dengan lainnya (*others*). Ketik `plt.pie?` atau cek keterangan mengenai *pie chart* di dalam galeri fungsi `matplotlib` yang terdapat dalam tautan yang tercantum di atas. Coba untuk menggunakan beberapa kata kunci untuk menghasilkan *pie chart* yang informatif dan memiliki nilai estetik tinggi. Anda dapat menambahkan perintah `plt.axis('equal')` untuk membuat kedua sumbu pada grafik memiliki skala yang sama agar *pie chart* yang dihasilkan memiliki bentuk lingkaran yang sempurna. Terdapat 4 metode berbeda untuk mengatur warna pada fungsi-fungsi *plotting* di dalam `matplotlib`; anda dapat membaca hal ini lebih lanjut melalui [tautan ini](http://matplotlib.org/examples/pylab_examples/color_demo.html). Metode yang cukup terdepan adalah dengan menggunakan penamaan warna sesuai dengan pengaturan dalam html. Gunakan kata kunci berupa `colors` pada *pie chart* anda untuk mengatur pewarnaan grafik. Urutan warna-warna yang anda inginkan harus didefinisikan di dalam tanda kurung siku dengan masing-masing warna diletakkan di dalam tanda kutip, dimulai dengan huruf kapital, dan dipisahkan satu dengan yang lain dengan tanda koma i.e. `['MediumBlue','SpringGreen','BlueViolet']`;. Apabila jumlah warna yang didefinisikan lebih sedikit dibandingkan dengan jumlah variabel yang ingin diplot, maka Python akan secara otomatis mengulang warna-warna yang telah didefinisikan tersebut untuk menggambarkan variabel yang tersisa. Pengaturan nama warna via html dapat anda cek di internet atau di [sini](http://en.wikipedia.org/wiki/Web_colors)."
   ]
  },
  {
   "cell_type": "code",
   "execution_count": null,
   "metadata": {
    "collapsed": false
   },
   "outputs": [],
   "source": []
  },
  {
   "cell_type": "markdown",
   "metadata": {},
   "source": [
    "<a href=\"#ex5answer\">Kunci Jawaban untuk Latihan 5</a>"
   ]
  },
  {
   "cell_type": "markdown",
   "metadata": {},
   "source": [
    "### <a name=\"ex6\"></a> Latihan 6, Pengisian ruang antara dua kurva\n",
    "Muat data mengenai hujan bulanan Bandung dan Surabaya, seperti yang digunakan dalam Latihan 4. Kali ini, buatlah 1 plot yang berisi data hujan bulanan vs jumlah bulan. Gunakan fungsi `plt.fill_between` untuk mengisi ruang antara kurva dan  $ sumbu-x $ . Gunakan kata kunci `alpha` untuk mendefinisikan transparansi hasil plotting. Lakukan beberapa eksperimen untuk menentukan nilai yang tepat untuk `alpha` (antara 0-1). Perhatikan bahwa anda perlu mendefinisikan pengaturan warna menggunakan kata kunci `colors`."
   ]
  },
  {
   "cell_type": "code",
   "execution_count": null,
   "metadata": {
    "collapsed": false
   },
   "outputs": [],
   "source": []
  },
  {
   "cell_type": "markdown",
   "metadata": {},
   "source": [
    "<a href=\"#ex6answer\">Kunci Jawaban untuk Latihan 6</a>"
   ]
  },
  {
   "cell_type": "markdown",
   "metadata": {},
   "source": [
    "### Kunci Jawaban"
   ]
  },
  {
   "cell_type": "markdown",
   "metadata": {},
   "source": [
    "<a name=\"ex1answer\">Kunci Jawaban untuk Latihan 1</a>"
   ]
  },
  {
   "cell_type": "code",
   "execution_count": null,
   "metadata": {
    "collapsed": false
   },
   "outputs": [],
   "source": [
    "a = 1\n",
    "b = 1\n",
    "c = -6\n",
    "x = -2\n",
    "y = a * x**2 + b * x + c\n",
    "print('nilai y pada x=-2 adalah', y)\n",
    "x = 0 \n",
    "y = a * x**2 + b * x + c\n",
    "print('nilai y pada x=0 adalah', y)\n",
    "x = 2\n",
    "y = a * x**2 + b * x + c\n",
    "print('nilai y pada x=2 adalah', y)"
   ]
  },
  {
   "cell_type": "markdown",
   "metadata": {},
   "source": [
    "<a href=\"#ex1\">Kembali ke Latihan 1</a>\n",
    "\n",
    "<a name=\"ex2answer\">Kunci Jawaban untuk Latihan 2</a>"
   ]
  },
  {
   "cell_type": "code",
   "execution_count": null,
   "metadata": {
    "collapsed": false
   },
   "outputs": [],
   "source": [
    "x = np.linspace(-3,3,100)\n",
    "y = (x+2)*(x-1)*(x-2)\n",
    "plt.plot(x,y,'r--')\n",
    "plt.plot([-2,1,2],[0,0,0],'bo',markersize=10)\n",
    "plt.xlabel('sumbu-x')\n",
    "plt.ylabel('sumbu-y')\n",
    "plt.title('Grafik Python pertama milik Mark Bakker')"
   ]
  },
  {
   "cell_type": "markdown",
   "metadata": {},
   "source": [
    "<a href=\"#ex2\">Kembali ke Latihan 2</a>\n",
    "\n",
    "<a name=\"ex3answer\">Kunci Jawaban untuk Latihan 3</a>"
   ]
  },
  {
   "cell_type": "code",
   "execution_count": null,
   "metadata": {
    "collapsed": false
   },
   "outputs": [],
   "source": [
    "bandung= np.loadtxt('hujan_bandung.dat')\n",
    "jakarta= np.loadtxt('hujan_jakarta.dat')\n",
    "surabaya= np.loadtxt('hujan_surabaya.dat')\n",
    "plt.plot(np.linspace(1, 12, 12), bandung)\n",
    "plt.plot(np.linspace(1, 12, 12), jakarta)\n",
    "plt.plot(np.linspace(1, 12, 12), surabaya)\n",
    "plt.xlabel('Bulan ke-')\n",
    "plt.ylabel('Hujan bulanan(mm)')\n",
    "plt.xlim(1, 12)\n",
    "plt.legend(['Bandung','Jakarta','Surabaya'], loc='best');"
   ]
  },
  {
   "cell_type": "markdown",
   "metadata": {},
   "source": [
    "<a href=\"#ex3\">Kembali ke Latihan 3</a>\n",
    "\n",
    "<a name=\"ex4answer\">Kunci Jawaban untuk Latihan 4</a>"
   ]
  },
  {
   "cell_type": "code",
   "execution_count": null,
   "metadata": {
    "collapsed": false
   },
   "outputs": [],
   "source": [
    "Bandung = np.loadtxt('hujan_bandung.dat') \n",
    "Surabaya = np.loadtxt('hujan_surabaya.dat')\n",
    "plt.subplot(211)\n",
    "plt.plot(Bandung, 'b', label='hujan bulanan Bandung')\n",
    "plt.plot(Surabaya, 'r', label='hujan bulanan Surabaya')\n",
    "plt.legend(loc='best')\n",
    "plt.ylabel('mm')\n",
    "plt.xlim(0, 11)\n",
    "plt.xticks([])\n",
    "plt.subplot(212)\n",
    "plt.plot(Bandung-Surabaya, 'ko')\n",
    "plt.xticks(np.linspace(0, 11, 12),\n",
    "           ['jan','feb','mar','apr','mei','jun','jul','ags','sep','okt','nov','des'])\n",
    "plt.xlim(0, 11)\n",
    "plt.ylabel('Bandung - Surabaya (mm)');"
   ]
  },
  {
   "cell_type": "markdown",
   "metadata": {},
   "source": [
    "<a href=\"#ex4\">Kembali ke Latihan 4</a>\n",
    "\n",
    "<a name=\"ex5answer\">Kunci Jawaban untuk Latihan 5</a>"
   ]
  },
  {
   "cell_type": "code",
   "execution_count": null,
   "metadata": {
    "collapsed": false
   },
   "outputs": [],
   "source": [
    "gold = [46, 38, 29, 24, 13, 11, 11, 8, 8, 7, 107]\n",
    "countries = ['USA', 'CHN', 'GBR', 'RUS', 'KOR', 'GER', 'FRA', 'ITA', 'HUN', 'AUS', 'OTHER']\n",
    "plt.pie(gold,labels=countries,colors=['Gold','MediumBlue','SpringGreen','BlueViolet'])\n",
    "plt.axis('equal');"
   ]
  },
  {
   "cell_type": "markdown",
   "metadata": {},
   "source": [
    "<a href=\"#ex5\">Kembali ke Latihan 5</a>\n",
    "\n",
    "<a name=\"ex6answer\">Kunci Jawaban untuk Latihan 6</a>"
   ]
  },
  {
   "cell_type": "code",
   "execution_count": null,
   "metadata": {
    "collapsed": false
   },
   "outputs": [],
   "source": [
    "Bandung=np.loadtxt('hujan_Bandung.dat') \n",
    "Surabaya=np.loadtxt('hujan_Surabaya.dat')\n",
    "plt.fill_between(list(range(0,12)), Bandung, color='b', alpha=0.3)\n",
    "plt.fill_between(list(range(0,12)), Surabaya, color='r', alpha=0.3)\n",
    "plt.xticks(np.linspace(0, 11, 12), ['jan', 'feb', 'mar', 'apr',\\\n",
    "           'mei', 'jun', 'jul', 'ags', 'sep', ' okt', 'nov', 'des'])\n",
    "plt.xlim(0, 11)\n",
    "plt.ylim(0, 500)\n",
    "plt.xlabel('Bulan')\n",
    "plt.ylabel('Hujan Bulanan (mm)');"
   ]
  },
  {
   "cell_type": "markdown",
   "metadata": {},
   "source": [
    "<a href=\"#ex6\">Kembali ke Latihan 6</a>"
   ]
  },
  {
   "cell_type": "code",
   "execution_count": null,
   "metadata": {
    "collapsed": true
   },
   "outputs": [],
   "source": []
  }
 ],
 "metadata": {
  "anaconda-cloud": {},
  "kernelspec": {
   "display_name": "Python [Root]",
   "language": "python",
   "name": "Python [Root]"
  },
  "language_info": {
   "codemirror_mode": {
    "name": "ipython",
    "version": 3
   },
   "file_extension": ".py",
   "mimetype": "text/x-python",
   "name": "python",
   "nbconvert_exporter": "python",
   "pygments_lexer": "ipython3",
   "version": "3.5.2"
  }
 },
 "nbformat": 4,
 "nbformat_minor": 0
}
